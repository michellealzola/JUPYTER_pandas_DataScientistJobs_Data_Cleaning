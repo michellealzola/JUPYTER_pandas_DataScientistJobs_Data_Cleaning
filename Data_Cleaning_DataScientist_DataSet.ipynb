{
 "cells": [
  {
   "cell_type": "code",
   "execution_count": 90,
   "metadata": {
    "collapsed": true
   },
   "outputs": [],
   "source": [
    "import pandas as pd\n",
    "import matplotlib.pyplot as plt"
   ]
  },
  {
   "cell_type": "code",
   "execution_count": 9,
   "metadata": {},
   "outputs": [],
   "source": [
    "# Load Data Scientist Jobs Dataset https://www.kaggle.com/datasets/andrewmvd/data-scientist-jobs"
   ]
  },
  {
   "cell_type": "code",
   "execution_count": 10,
   "outputs": [],
   "source": [
    "df_data_scientist = pd.read_csv('DataScientist.csv', index_col='index')\n"
   ],
   "metadata": {
    "collapsed": false
   }
  },
  {
   "cell_type": "code",
   "execution_count": 11,
   "outputs": [
    {
     "data": {
      "text/plain": "                                               Job Title  \\\nindex                                                      \n0                                  Senior Data Scientist   \n1                      Data Scientist, Product Analytics   \n2                                   Data Science Manager   \n3                                           Data Analyst   \n4                                 Director, Data Science   \n...                                                  ...   \n4375                                   AWS Data Engineer   \n4376                               Data Analyst â Junior   \n4377                    Security Analytics Data Engineer   \n4378                    Security Analytics Data Engineer   \n4379   Patient Safety Physician or Safety Scientist -...   \n\n                    Salary Estimate  \\\nindex                                 \n0      $111K-$181K (Glassdoor est.)   \n1      $111K-$181K (Glassdoor est.)   \n2      $111K-$181K (Glassdoor est.)   \n3      $111K-$181K (Glassdoor est.)   \n4      $111K-$181K (Glassdoor est.)   \n...                             ...   \n4375    $55K-$112K (Glassdoor est.)   \n4376    $55K-$112K (Glassdoor est.)   \n4377    $55K-$112K (Glassdoor est.)   \n4378    $55K-$112K (Glassdoor est.)   \n4379    $55K-$112K (Glassdoor est.)   \n\n                                         Job Description  Rating  \\\nindex                                                              \n0      ABOUT HOPPER\\n\\nAt Hopper, we’re on a mission ...     3.5   \n1      At Noom, we use scientifically proven methods ...     4.5   \n2      Decode_M\\n\\nhttps://www.decode-m.com/\\n\\nData ...    -1.0   \n3      Sapphire Digital seeks a dynamic and driven mi...     3.4   \n4      Director, Data Science - (200537)\\nDescription...     3.4   \n...                                                  ...     ...   \n4375   About Us\\n\\nTachyon Technologies is a Digital ...     4.4   \n4376   Job description\\nInterpret data, analyze resul...     5.0   \n4377   Job DescriptionThe Security Analytics Data Eng...     3.8   \n4378   The Security Analytics Data Engineer will inte...     4.0   \n4379   Help us transform patients' lives.\\nAt UCB, we...     3.7   \n\n                                Company Name       Location      Headquarters  \\\nindex                                                                           \n0                                Hopper\\n3.5   New York, NY  Montreal, Canada   \n1                               Noom US\\n4.5   New York, NY      New York, NY   \n2                                   Decode_M   New York, NY      New York, NY   \n3                      Sapphire Digital\\n3.4  Lyndhurst, NJ     Lyndhurst, NJ   \n4            United Entertainment Group\\n3.4   New York, NY      New York, NY   \n...                                      ...            ...               ...   \n4375               Tachyon Technologies\\n4.4     Dublin, OH        Irving, TX   \n4376   Staffigo Technical Services, LLC\\n5.0   Columbus, OH     Woodridge, IL   \n4377                     PDS Tech, Inc.\\n3.8     Dublin, OH        Irving, TX   \n4378         Data Resource Technologies\\n4.0     Dublin, OH         Omaha, NE   \n4379                                UCB\\n3.7     Slough, OH  Brussel, Belgium   \n\n                          Size  Founded  Type of ownership  \\\nindex                                                        \n0        501 to 1000 employees     2007  Company - Private   \n1       1001 to 5000 employees     2008  Company - Private   \n2            1 to 50 employees       -1            Unknown   \n3         201 to 500 employees     2019  Company - Private   \n4          51 to 200 employees     2007  Company - Private   \n...                        ...      ...                ...   \n4375      201 to 500 employees     2011  Company - Private   \n4376       51 to 200 employees     2008  Company - Private   \n4377   5001 to 10000 employees     1977  Company - Private   \n4378         1 to 50 employees       -1  Company - Private   \n4379   5001 to 10000 employees       -1   Company - Public   \n\n                        Industry                     Sector  \\\nindex                                                         \n0                Travel Agencies           Travel & Tourism   \n1      Health, Beauty, & Fitness          Consumer Services   \n2                             -1                         -1   \n3                       Internet     Information Technology   \n4        Advertising & Marketing          Business Services   \n...                          ...                        ...   \n4375                 IT Services     Information Technology   \n4376                 IT Services     Information Technology   \n4377      Staffing & Outsourcing          Business Services   \n4378                  Accounting         Accounting & Legal   \n4379   Biotech & Pharmaceuticals  Biotech & Pharmaceuticals   \n\n                          Revenue               Competitors Easy Apply  \nindex                                                                   \n0        Unknown / Non-Applicable                        -1         -1  \n1        Unknown / Non-Applicable                        -1         -1  \n2        Unknown / Non-Applicable                        -1       TRUE  \n3        Unknown / Non-Applicable      Zocdoc, Healthgrades         -1  \n4        Unknown / Non-Applicable  BBDO, Grey Group, Droga5         -1  \n...                           ...                       ...        ...  \n4375     $10 to $25 million (USD)                        -1         -1  \n4376    $50 to $100 million (USD)                        -1         -1  \n4377   $100 to $500 million (USD)                        -1         -1  \n4378   Less than $1 million (USD)                        -1         -1  \n4379       $2 to $5 billion (USD)                    AbbVie         -1  \n\n[3909 rows x 15 columns]",
      "text/html": "<div>\n<style scoped>\n    .dataframe tbody tr th:only-of-type {\n        vertical-align: middle;\n    }\n\n    .dataframe tbody tr th {\n        vertical-align: top;\n    }\n\n    .dataframe thead th {\n        text-align: right;\n    }\n</style>\n<table border=\"1\" class=\"dataframe\">\n  <thead>\n    <tr style=\"text-align: right;\">\n      <th></th>\n      <th>Job Title</th>\n      <th>Salary Estimate</th>\n      <th>Job Description</th>\n      <th>Rating</th>\n      <th>Company Name</th>\n      <th>Location</th>\n      <th>Headquarters</th>\n      <th>Size</th>\n      <th>Founded</th>\n      <th>Type of ownership</th>\n      <th>Industry</th>\n      <th>Sector</th>\n      <th>Revenue</th>\n      <th>Competitors</th>\n      <th>Easy Apply</th>\n    </tr>\n    <tr>\n      <th>index</th>\n      <th></th>\n      <th></th>\n      <th></th>\n      <th></th>\n      <th></th>\n      <th></th>\n      <th></th>\n      <th></th>\n      <th></th>\n      <th></th>\n      <th></th>\n      <th></th>\n      <th></th>\n      <th></th>\n      <th></th>\n    </tr>\n  </thead>\n  <tbody>\n    <tr>\n      <th>0</th>\n      <td>Senior Data Scientist</td>\n      <td>$111K-$181K (Glassdoor est.)</td>\n      <td>ABOUT HOPPER\\n\\nAt Hopper, we’re on a mission ...</td>\n      <td>3.5</td>\n      <td>Hopper\\n3.5</td>\n      <td>New York, NY</td>\n      <td>Montreal, Canada</td>\n      <td>501 to 1000 employees</td>\n      <td>2007</td>\n      <td>Company - Private</td>\n      <td>Travel Agencies</td>\n      <td>Travel &amp; Tourism</td>\n      <td>Unknown / Non-Applicable</td>\n      <td>-1</td>\n      <td>-1</td>\n    </tr>\n    <tr>\n      <th>1</th>\n      <td>Data Scientist, Product Analytics</td>\n      <td>$111K-$181K (Glassdoor est.)</td>\n      <td>At Noom, we use scientifically proven methods ...</td>\n      <td>4.5</td>\n      <td>Noom US\\n4.5</td>\n      <td>New York, NY</td>\n      <td>New York, NY</td>\n      <td>1001 to 5000 employees</td>\n      <td>2008</td>\n      <td>Company - Private</td>\n      <td>Health, Beauty, &amp; Fitness</td>\n      <td>Consumer Services</td>\n      <td>Unknown / Non-Applicable</td>\n      <td>-1</td>\n      <td>-1</td>\n    </tr>\n    <tr>\n      <th>2</th>\n      <td>Data Science Manager</td>\n      <td>$111K-$181K (Glassdoor est.)</td>\n      <td>Decode_M\\n\\nhttps://www.decode-m.com/\\n\\nData ...</td>\n      <td>-1.0</td>\n      <td>Decode_M</td>\n      <td>New York, NY</td>\n      <td>New York, NY</td>\n      <td>1 to 50 employees</td>\n      <td>-1</td>\n      <td>Unknown</td>\n      <td>-1</td>\n      <td>-1</td>\n      <td>Unknown / Non-Applicable</td>\n      <td>-1</td>\n      <td>TRUE</td>\n    </tr>\n    <tr>\n      <th>3</th>\n      <td>Data Analyst</td>\n      <td>$111K-$181K (Glassdoor est.)</td>\n      <td>Sapphire Digital seeks a dynamic and driven mi...</td>\n      <td>3.4</td>\n      <td>Sapphire Digital\\n3.4</td>\n      <td>Lyndhurst, NJ</td>\n      <td>Lyndhurst, NJ</td>\n      <td>201 to 500 employees</td>\n      <td>2019</td>\n      <td>Company - Private</td>\n      <td>Internet</td>\n      <td>Information Technology</td>\n      <td>Unknown / Non-Applicable</td>\n      <td>Zocdoc, Healthgrades</td>\n      <td>-1</td>\n    </tr>\n    <tr>\n      <th>4</th>\n      <td>Director, Data Science</td>\n      <td>$111K-$181K (Glassdoor est.)</td>\n      <td>Director, Data Science - (200537)\\nDescription...</td>\n      <td>3.4</td>\n      <td>United Entertainment Group\\n3.4</td>\n      <td>New York, NY</td>\n      <td>New York, NY</td>\n      <td>51 to 200 employees</td>\n      <td>2007</td>\n      <td>Company - Private</td>\n      <td>Advertising &amp; Marketing</td>\n      <td>Business Services</td>\n      <td>Unknown / Non-Applicable</td>\n      <td>BBDO, Grey Group, Droga5</td>\n      <td>-1</td>\n    </tr>\n    <tr>\n      <th>...</th>\n      <td>...</td>\n      <td>...</td>\n      <td>...</td>\n      <td>...</td>\n      <td>...</td>\n      <td>...</td>\n      <td>...</td>\n      <td>...</td>\n      <td>...</td>\n      <td>...</td>\n      <td>...</td>\n      <td>...</td>\n      <td>...</td>\n      <td>...</td>\n      <td>...</td>\n    </tr>\n    <tr>\n      <th>4375</th>\n      <td>AWS Data Engineer</td>\n      <td>$55K-$112K (Glassdoor est.)</td>\n      <td>About Us\\n\\nTachyon Technologies is a Digital ...</td>\n      <td>4.4</td>\n      <td>Tachyon Technologies\\n4.4</td>\n      <td>Dublin, OH</td>\n      <td>Irving, TX</td>\n      <td>201 to 500 employees</td>\n      <td>2011</td>\n      <td>Company - Private</td>\n      <td>IT Services</td>\n      <td>Information Technology</td>\n      <td>$10 to $25 million (USD)</td>\n      <td>-1</td>\n      <td>-1</td>\n    </tr>\n    <tr>\n      <th>4376</th>\n      <td>Data Analyst â Junior</td>\n      <td>$55K-$112K (Glassdoor est.)</td>\n      <td>Job description\\nInterpret data, analyze resul...</td>\n      <td>5.0</td>\n      <td>Staffigo Technical Services, LLC\\n5.0</td>\n      <td>Columbus, OH</td>\n      <td>Woodridge, IL</td>\n      <td>51 to 200 employees</td>\n      <td>2008</td>\n      <td>Company - Private</td>\n      <td>IT Services</td>\n      <td>Information Technology</td>\n      <td>$50 to $100 million (USD)</td>\n      <td>-1</td>\n      <td>-1</td>\n    </tr>\n    <tr>\n      <th>4377</th>\n      <td>Security Analytics Data Engineer</td>\n      <td>$55K-$112K (Glassdoor est.)</td>\n      <td>Job DescriptionThe Security Analytics Data Eng...</td>\n      <td>3.8</td>\n      <td>PDS Tech, Inc.\\n3.8</td>\n      <td>Dublin, OH</td>\n      <td>Irving, TX</td>\n      <td>5001 to 10000 employees</td>\n      <td>1977</td>\n      <td>Company - Private</td>\n      <td>Staffing &amp; Outsourcing</td>\n      <td>Business Services</td>\n      <td>$100 to $500 million (USD)</td>\n      <td>-1</td>\n      <td>-1</td>\n    </tr>\n    <tr>\n      <th>4378</th>\n      <td>Security Analytics Data Engineer</td>\n      <td>$55K-$112K (Glassdoor est.)</td>\n      <td>The Security Analytics Data Engineer will inte...</td>\n      <td>4.0</td>\n      <td>Data Resource Technologies\\n4.0</td>\n      <td>Dublin, OH</td>\n      <td>Omaha, NE</td>\n      <td>1 to 50 employees</td>\n      <td>-1</td>\n      <td>Company - Private</td>\n      <td>Accounting</td>\n      <td>Accounting &amp; Legal</td>\n      <td>Less than $1 million (USD)</td>\n      <td>-1</td>\n      <td>-1</td>\n    </tr>\n    <tr>\n      <th>4379</th>\n      <td>Patient Safety Physician or Safety Scientist -...</td>\n      <td>$55K-$112K (Glassdoor est.)</td>\n      <td>Help us transform patients' lives.\\nAt UCB, we...</td>\n      <td>3.7</td>\n      <td>UCB\\n3.7</td>\n      <td>Slough, OH</td>\n      <td>Brussel, Belgium</td>\n      <td>5001 to 10000 employees</td>\n      <td>-1</td>\n      <td>Company - Public</td>\n      <td>Biotech &amp; Pharmaceuticals</td>\n      <td>Biotech &amp; Pharmaceuticals</td>\n      <td>$2 to $5 billion (USD)</td>\n      <td>AbbVie</td>\n      <td>-1</td>\n    </tr>\n  </tbody>\n</table>\n<p>3909 rows × 15 columns</p>\n</div>"
     },
     "execution_count": 11,
     "metadata": {},
     "output_type": "execute_result"
    }
   ],
   "source": [
    "df_data_scientist"
   ],
   "metadata": {
    "collapsed": false
   }
  },
  {
   "cell_type": "code",
   "execution_count": 12,
   "outputs": [],
   "source": [
    "# Get cell info"
   ],
   "metadata": {
    "collapsed": false
   }
  },
  {
   "cell_type": "code",
   "execution_count": 13,
   "outputs": [
    {
     "name": "stdout",
     "output_type": "stream",
     "text": [
      "<class 'pandas.core.frame.DataFrame'>\n",
      "Int64Index: 3909 entries, 0 to 4379\n",
      "Data columns (total 15 columns):\n",
      " #   Column             Non-Null Count  Dtype  \n",
      "---  ------             --------------  -----  \n",
      " 0   Job Title          3909 non-null   object \n",
      " 1   Salary Estimate    3909 non-null   object \n",
      " 2   Job Description    3909 non-null   object \n",
      " 3   Rating             3909 non-null   float64\n",
      " 4   Company Name       3909 non-null   object \n",
      " 5   Location           3909 non-null   object \n",
      " 6   Headquarters       3909 non-null   object \n",
      " 7   Size               3909 non-null   object \n",
      " 8   Founded            3909 non-null   int64  \n",
      " 9   Type of ownership  3909 non-null   object \n",
      " 10  Industry           3909 non-null   object \n",
      " 11  Sector             3909 non-null   object \n",
      " 12  Revenue            3909 non-null   object \n",
      " 13  Competitors        3909 non-null   object \n",
      " 14  Easy Apply         3909 non-null   object \n",
      "dtypes: float64(1), int64(1), object(13)\n",
      "memory usage: 488.6+ KB\n"
     ]
    }
   ],
   "source": [
    "df_data_scientist.info()"
   ],
   "metadata": {
    "collapsed": false
   }
  },
  {
   "cell_type": "code",
   "execution_count": 14,
   "outputs": [
    {
     "data": {
      "text/plain": "(3909, 15)"
     },
     "execution_count": 14,
     "metadata": {},
     "output_type": "execute_result"
    }
   ],
   "source": [
    "df_data_scientist.shape"
   ],
   "metadata": {
    "collapsed": false
   }
  },
  {
   "cell_type": "code",
   "execution_count": 15,
   "outputs": [],
   "source": [
    "# Clean Salary Estimate.\n",
    "# Remove range. Get average of maximum and minimum values and save it to\n",
    "# another column 'Salary_Average_Clean'\n"
   ],
   "metadata": {
    "collapsed": false
   }
  },
  {
   "cell_type": "code",
   "execution_count": 87,
   "outputs": [],
   "source": [
    "df_data_scientist['Salary Estimate'].astype('str')\n",
    "\n",
    "def salary_average(x):\n",
    "    y = x.replace('(Glassdoor est.)', '').replace('(Employer est.)', '').replace('Per Hour(Glassdoor est.)', '').replace('Per Hour', '').replace('K', '000').replace('$', '').split('-')\n",
    "\n",
    "    return (float(y[0]) + float(y[1])) / 2\n"
   ],
   "metadata": {
    "collapsed": false
   }
  },
  {
   "cell_type": "code",
   "execution_count": 88,
   "outputs": [],
   "source": [
    "df_data_scientist['Salary_Average_Clean'] = df_data_scientist['Salary Estimate'].apply(salary_average)\n"
   ],
   "metadata": {
    "collapsed": false
   }
  },
  {
   "cell_type": "code",
   "execution_count": 89,
   "outputs": [
    {
     "data": {
      "text/plain": "                    Salary Estimate  Salary_Average_Clean\nindex                                                    \n0      $111K-$181K (Glassdoor est.)              146000.0\n1      $111K-$181K (Glassdoor est.)              146000.0\n2      $111K-$181K (Glassdoor est.)              146000.0\n3      $111K-$181K (Glassdoor est.)              146000.0\n4      $111K-$181K (Glassdoor est.)              146000.0\n...                             ...                   ...\n4375    $55K-$112K (Glassdoor est.)               83500.0\n4376    $55K-$112K (Glassdoor est.)               83500.0\n4377    $55K-$112K (Glassdoor est.)               83500.0\n4378    $55K-$112K (Glassdoor est.)               83500.0\n4379    $55K-$112K (Glassdoor est.)               83500.0\n\n[3909 rows x 2 columns]",
      "text/html": "<div>\n<style scoped>\n    .dataframe tbody tr th:only-of-type {\n        vertical-align: middle;\n    }\n\n    .dataframe tbody tr th {\n        vertical-align: top;\n    }\n\n    .dataframe thead th {\n        text-align: right;\n    }\n</style>\n<table border=\"1\" class=\"dataframe\">\n  <thead>\n    <tr style=\"text-align: right;\">\n      <th></th>\n      <th>Salary Estimate</th>\n      <th>Salary_Average_Clean</th>\n    </tr>\n    <tr>\n      <th>index</th>\n      <th></th>\n      <th></th>\n    </tr>\n  </thead>\n  <tbody>\n    <tr>\n      <th>0</th>\n      <td>$111K-$181K (Glassdoor est.)</td>\n      <td>146000.0</td>\n    </tr>\n    <tr>\n      <th>1</th>\n      <td>$111K-$181K (Glassdoor est.)</td>\n      <td>146000.0</td>\n    </tr>\n    <tr>\n      <th>2</th>\n      <td>$111K-$181K (Glassdoor est.)</td>\n      <td>146000.0</td>\n    </tr>\n    <tr>\n      <th>3</th>\n      <td>$111K-$181K (Glassdoor est.)</td>\n      <td>146000.0</td>\n    </tr>\n    <tr>\n      <th>4</th>\n      <td>$111K-$181K (Glassdoor est.)</td>\n      <td>146000.0</td>\n    </tr>\n    <tr>\n      <th>...</th>\n      <td>...</td>\n      <td>...</td>\n    </tr>\n    <tr>\n      <th>4375</th>\n      <td>$55K-$112K (Glassdoor est.)</td>\n      <td>83500.0</td>\n    </tr>\n    <tr>\n      <th>4376</th>\n      <td>$55K-$112K (Glassdoor est.)</td>\n      <td>83500.0</td>\n    </tr>\n    <tr>\n      <th>4377</th>\n      <td>$55K-$112K (Glassdoor est.)</td>\n      <td>83500.0</td>\n    </tr>\n    <tr>\n      <th>4378</th>\n      <td>$55K-$112K (Glassdoor est.)</td>\n      <td>83500.0</td>\n    </tr>\n    <tr>\n      <th>4379</th>\n      <td>$55K-$112K (Glassdoor est.)</td>\n      <td>83500.0</td>\n    </tr>\n  </tbody>\n</table>\n<p>3909 rows × 2 columns</p>\n</div>"
     },
     "execution_count": 89,
     "metadata": {},
     "output_type": "execute_result"
    }
   ],
   "source": [
    "df_data_scientist[['Salary Estimate', 'Salary_Average_Clean']]\n"
   ],
   "metadata": {
    "collapsed": false
   }
  },
  {
   "cell_type": "code",
   "execution_count": 92,
   "outputs": [],
   "source": [
    "# Clean Job Description\n"
   ],
   "metadata": {
    "collapsed": false
   }
  },
  {
   "cell_type": "code",
   "execution_count": 94,
   "outputs": [],
   "source": [
    "df_data_scientist['Job Description'].astype('str')\n",
    "def remove_n(x):\n",
    "    y = x.replace('\\n', ', ')\n",
    "    return y\n"
   ],
   "metadata": {
    "collapsed": false
   }
  },
  {
   "cell_type": "code",
   "execution_count": 95,
   "outputs": [],
   "source": [
    "df_data_scientist['Job_Description_Clean'] = df_data_scientist['Job Description'].apply(remove_n)\n"
   ],
   "metadata": {
    "collapsed": false
   }
  },
  {
   "cell_type": "code",
   "execution_count": 96,
   "outputs": [
    {
     "data": {
      "text/plain": "                                         Job Description  \\\nindex                                                      \n0      ABOUT HOPPER\\n\\nAt Hopper, we’re on a mission ...   \n1      At Noom, we use scientifically proven methods ...   \n2      Decode_M\\n\\nhttps://www.decode-m.com/\\n\\nData ...   \n3      Sapphire Digital seeks a dynamic and driven mi...   \n4      Director, Data Science - (200537)\\nDescription...   \n...                                                  ...   \n4375   About Us\\n\\nTachyon Technologies is a Digital ...   \n4376   Job description\\nInterpret data, analyze resul...   \n4377   Job DescriptionThe Security Analytics Data Eng...   \n4378   The Security Analytics Data Engineer will inte...   \n4379   Help us transform patients' lives.\\nAt UCB, we...   \n\n                                   Job_Description_Clean  \nindex                                                     \n0      ABOUT HOPPER, , At Hopper, we’re on a mission ...  \n1      At Noom, we use scientifically proven methods ...  \n2      Decode_M, , https://www.decode-m.com/, , Data ...  \n3      Sapphire Digital seeks a dynamic and driven mi...  \n4      Director, Data Science - (200537), Description...  \n...                                                  ...  \n4375   About Us, , Tachyon Technologies is a Digital ...  \n4376   Job description, Interpret data, analyze resul...  \n4377   Job DescriptionThe Security Analytics Data Eng...  \n4378   The Security Analytics Data Engineer will inte...  \n4379   Help us transform patients' lives., At UCB, we...  \n\n[3909 rows x 2 columns]",
      "text/html": "<div>\n<style scoped>\n    .dataframe tbody tr th:only-of-type {\n        vertical-align: middle;\n    }\n\n    .dataframe tbody tr th {\n        vertical-align: top;\n    }\n\n    .dataframe thead th {\n        text-align: right;\n    }\n</style>\n<table border=\"1\" class=\"dataframe\">\n  <thead>\n    <tr style=\"text-align: right;\">\n      <th></th>\n      <th>Job Description</th>\n      <th>Job_Description_Clean</th>\n    </tr>\n    <tr>\n      <th>index</th>\n      <th></th>\n      <th></th>\n    </tr>\n  </thead>\n  <tbody>\n    <tr>\n      <th>0</th>\n      <td>ABOUT HOPPER\\n\\nAt Hopper, we’re on a mission ...</td>\n      <td>ABOUT HOPPER, , At Hopper, we’re on a mission ...</td>\n    </tr>\n    <tr>\n      <th>1</th>\n      <td>At Noom, we use scientifically proven methods ...</td>\n      <td>At Noom, we use scientifically proven methods ...</td>\n    </tr>\n    <tr>\n      <th>2</th>\n      <td>Decode_M\\n\\nhttps://www.decode-m.com/\\n\\nData ...</td>\n      <td>Decode_M, , https://www.decode-m.com/, , Data ...</td>\n    </tr>\n    <tr>\n      <th>3</th>\n      <td>Sapphire Digital seeks a dynamic and driven mi...</td>\n      <td>Sapphire Digital seeks a dynamic and driven mi...</td>\n    </tr>\n    <tr>\n      <th>4</th>\n      <td>Director, Data Science - (200537)\\nDescription...</td>\n      <td>Director, Data Science - (200537), Description...</td>\n    </tr>\n    <tr>\n      <th>...</th>\n      <td>...</td>\n      <td>...</td>\n    </tr>\n    <tr>\n      <th>4375</th>\n      <td>About Us\\n\\nTachyon Technologies is a Digital ...</td>\n      <td>About Us, , Tachyon Technologies is a Digital ...</td>\n    </tr>\n    <tr>\n      <th>4376</th>\n      <td>Job description\\nInterpret data, analyze resul...</td>\n      <td>Job description, Interpret data, analyze resul...</td>\n    </tr>\n    <tr>\n      <th>4377</th>\n      <td>Job DescriptionThe Security Analytics Data Eng...</td>\n      <td>Job DescriptionThe Security Analytics Data Eng...</td>\n    </tr>\n    <tr>\n      <th>4378</th>\n      <td>The Security Analytics Data Engineer will inte...</td>\n      <td>The Security Analytics Data Engineer will inte...</td>\n    </tr>\n    <tr>\n      <th>4379</th>\n      <td>Help us transform patients' lives.\\nAt UCB, we...</td>\n      <td>Help us transform patients' lives., At UCB, we...</td>\n    </tr>\n  </tbody>\n</table>\n<p>3909 rows × 2 columns</p>\n</div>"
     },
     "execution_count": 96,
     "metadata": {},
     "output_type": "execute_result"
    }
   ],
   "source": [
    "df_data_scientist[['Job Description', 'Job_Description_Clean']]\n"
   ],
   "metadata": {
    "collapsed": false
   }
  },
  {
   "cell_type": "code",
   "execution_count": 97,
   "outputs": [],
   "source": [
    "# Clean Rating\n"
   ],
   "metadata": {
    "collapsed": false
   }
  },
  {
   "cell_type": "code",
   "execution_count": 105,
   "outputs": [
    {
     "data": {
      "text/plain": "index\n0       3\n1       4\n2      -1\n3       3\n4       3\n       ..\n4375    4\n4376    5\n4377    3\n4378    4\n4379    3\nName: Rating, Length: 3909, dtype: int32"
     },
     "execution_count": 105,
     "metadata": {},
     "output_type": "execute_result"
    }
   ],
   "source": [
    "df_data_scientist['Rating'].astype('int')\n"
   ],
   "metadata": {
    "collapsed": false
   }
  },
  {
   "cell_type": "code",
   "execution_count": 106,
   "outputs": [],
   "source": [
    "def negative_rating_cleanup(x):\n",
    "    if x < 0:\n",
    "        return None\n",
    "    else:\n",
    "        return x\n"
   ],
   "metadata": {
    "collapsed": false
   }
  },
  {
   "cell_type": "code",
   "execution_count": 107,
   "outputs": [],
   "source": [
    "df_data_scientist['Rating_Clean'] = df_data_scientist['Rating'].apply(negative_rating_cleanup)\n"
   ],
   "metadata": {
    "collapsed": false
   }
  },
  {
   "cell_type": "code",
   "execution_count": 108,
   "outputs": [
    {
     "data": {
      "text/plain": "       Rating  Rating_Clean\nindex                      \n0         3.5           3.5\n1         4.5           4.5\n2        -1.0           NaN\n3         3.4           3.4\n4         3.4           3.4\n...       ...           ...\n4375      4.4           4.4\n4376      5.0           5.0\n4377      3.8           3.8\n4378      4.0           4.0\n4379      3.7           3.7\n\n[3909 rows x 2 columns]",
      "text/html": "<div>\n<style scoped>\n    .dataframe tbody tr th:only-of-type {\n        vertical-align: middle;\n    }\n\n    .dataframe tbody tr th {\n        vertical-align: top;\n    }\n\n    .dataframe thead th {\n        text-align: right;\n    }\n</style>\n<table border=\"1\" class=\"dataframe\">\n  <thead>\n    <tr style=\"text-align: right;\">\n      <th></th>\n      <th>Rating</th>\n      <th>Rating_Clean</th>\n    </tr>\n    <tr>\n      <th>index</th>\n      <th></th>\n      <th></th>\n    </tr>\n  </thead>\n  <tbody>\n    <tr>\n      <th>0</th>\n      <td>3.5</td>\n      <td>3.5</td>\n    </tr>\n    <tr>\n      <th>1</th>\n      <td>4.5</td>\n      <td>4.5</td>\n    </tr>\n    <tr>\n      <th>2</th>\n      <td>-1.0</td>\n      <td>NaN</td>\n    </tr>\n    <tr>\n      <th>3</th>\n      <td>3.4</td>\n      <td>3.4</td>\n    </tr>\n    <tr>\n      <th>4</th>\n      <td>3.4</td>\n      <td>3.4</td>\n    </tr>\n    <tr>\n      <th>...</th>\n      <td>...</td>\n      <td>...</td>\n    </tr>\n    <tr>\n      <th>4375</th>\n      <td>4.4</td>\n      <td>4.4</td>\n    </tr>\n    <tr>\n      <th>4376</th>\n      <td>5.0</td>\n      <td>5.0</td>\n    </tr>\n    <tr>\n      <th>4377</th>\n      <td>3.8</td>\n      <td>3.8</td>\n    </tr>\n    <tr>\n      <th>4378</th>\n      <td>4.0</td>\n      <td>4.0</td>\n    </tr>\n    <tr>\n      <th>4379</th>\n      <td>3.7</td>\n      <td>3.7</td>\n    </tr>\n  </tbody>\n</table>\n<p>3909 rows × 2 columns</p>\n</div>"
     },
     "execution_count": 108,
     "metadata": {},
     "output_type": "execute_result"
    }
   ],
   "source": [
    "df_data_scientist[['Rating', 'Rating_Clean']]\n"
   ],
   "metadata": {
    "collapsed": false
   }
  },
  {
   "cell_type": "code",
   "execution_count": 109,
   "outputs": [],
   "source": [
    "# Clean Company Name\n"
   ],
   "metadata": {
    "collapsed": false
   }
  },
  {
   "cell_type": "code",
   "execution_count": 114,
   "outputs": [],
   "source": [
    "df_data_scientist['Company Name'].astype('str')\n",
    "def remove_n_comp_name(x):\n",
    "    y = x.split('\\n')\n",
    "    return y[0]\n"
   ],
   "metadata": {
    "collapsed": false
   }
  },
  {
   "cell_type": "code",
   "execution_count": 115,
   "outputs": [],
   "source": [
    "df_data_scientist['Company_Name_Clean'] = df_data_scientist['Company Name'].apply(remove_n_comp_name)\n"
   ],
   "metadata": {
    "collapsed": false
   }
  },
  {
   "cell_type": "code",
   "execution_count": 116,
   "outputs": [
    {
     "data": {
      "text/plain": "                                Company Name                Company_Name_Clean\nindex                                                                         \n0                                Hopper\\n3.5                            Hopper\n1                               Noom US\\n4.5                           Noom US\n2                                   Decode_M                          Decode_M\n3                      Sapphire Digital\\n3.4                  Sapphire Digital\n4            United Entertainment Group\\n3.4        United Entertainment Group\n...                                      ...                               ...\n4375               Tachyon Technologies\\n4.4              Tachyon Technologies\n4376   Staffigo Technical Services, LLC\\n5.0  Staffigo Technical Services, LLC\n4377                     PDS Tech, Inc.\\n3.8                    PDS Tech, Inc.\n4378         Data Resource Technologies\\n4.0        Data Resource Technologies\n4379                                UCB\\n3.7                               UCB\n\n[3909 rows x 2 columns]",
      "text/html": "<div>\n<style scoped>\n    .dataframe tbody tr th:only-of-type {\n        vertical-align: middle;\n    }\n\n    .dataframe tbody tr th {\n        vertical-align: top;\n    }\n\n    .dataframe thead th {\n        text-align: right;\n    }\n</style>\n<table border=\"1\" class=\"dataframe\">\n  <thead>\n    <tr style=\"text-align: right;\">\n      <th></th>\n      <th>Company Name</th>\n      <th>Company_Name_Clean</th>\n    </tr>\n    <tr>\n      <th>index</th>\n      <th></th>\n      <th></th>\n    </tr>\n  </thead>\n  <tbody>\n    <tr>\n      <th>0</th>\n      <td>Hopper\\n3.5</td>\n      <td>Hopper</td>\n    </tr>\n    <tr>\n      <th>1</th>\n      <td>Noom US\\n4.5</td>\n      <td>Noom US</td>\n    </tr>\n    <tr>\n      <th>2</th>\n      <td>Decode_M</td>\n      <td>Decode_M</td>\n    </tr>\n    <tr>\n      <th>3</th>\n      <td>Sapphire Digital\\n3.4</td>\n      <td>Sapphire Digital</td>\n    </tr>\n    <tr>\n      <th>4</th>\n      <td>United Entertainment Group\\n3.4</td>\n      <td>United Entertainment Group</td>\n    </tr>\n    <tr>\n      <th>...</th>\n      <td>...</td>\n      <td>...</td>\n    </tr>\n    <tr>\n      <th>4375</th>\n      <td>Tachyon Technologies\\n4.4</td>\n      <td>Tachyon Technologies</td>\n    </tr>\n    <tr>\n      <th>4376</th>\n      <td>Staffigo Technical Services, LLC\\n5.0</td>\n      <td>Staffigo Technical Services, LLC</td>\n    </tr>\n    <tr>\n      <th>4377</th>\n      <td>PDS Tech, Inc.\\n3.8</td>\n      <td>PDS Tech, Inc.</td>\n    </tr>\n    <tr>\n      <th>4378</th>\n      <td>Data Resource Technologies\\n4.0</td>\n      <td>Data Resource Technologies</td>\n    </tr>\n    <tr>\n      <th>4379</th>\n      <td>UCB\\n3.7</td>\n      <td>UCB</td>\n    </tr>\n  </tbody>\n</table>\n<p>3909 rows × 2 columns</p>\n</div>"
     },
     "execution_count": 116,
     "metadata": {},
     "output_type": "execute_result"
    }
   ],
   "source": [
    "df_data_scientist[['Company Name', 'Company_Name_Clean']]\n"
   ],
   "metadata": {
    "collapsed": false
   }
  },
  {
   "cell_type": "code",
   "execution_count": 117,
   "outputs": [],
   "source": [
    "# Clean Size. Make 2 additional columns for min and max number of employees\n"
   ],
   "metadata": {
    "collapsed": false
   }
  },
  {
   "cell_type": "code",
   "execution_count": 139,
   "outputs": [
    {
     "data": {
      "text/plain": "index\n0         501 to 1000 employees\n1        1001 to 5000 employees\n2             1 to 50 employees\n3          201 to 500 employees\n4           51 to 200 employees\n                 ...           \n4375       201 to 500 employees\n4376        51 to 200 employees\n4377    5001 to 10000 employees\n4378          1 to 50 employees\n4379    5001 to 10000 employees\nName: Size, Length: 3909, dtype: object"
     },
     "execution_count": 139,
     "metadata": {},
     "output_type": "execute_result"
    }
   ],
   "source": [
    "df_data_scientist['Size'].astype('str')\n"
   ],
   "metadata": {
    "collapsed": false
   }
  },
  {
   "cell_type": "code",
   "execution_count": 164,
   "outputs": [],
   "source": [
    "def get_num_group(x):\n",
    "    y = x.replace('employees', '').split(' to ')\n",
    "    return y\n"
   ],
   "metadata": {
    "collapsed": false
   }
  },
  {
   "cell_type": "code",
   "execution_count": 165,
   "outputs": [],
   "source": [
    "def get_min_num(x):\n",
    "    y = get_num_group(x)\n",
    "    return y[0]\n"
   ],
   "metadata": {
    "collapsed": false
   }
  },
  {
   "cell_type": "code",
   "execution_count": 196,
   "outputs": [],
   "source": [
    "def get_max_num(x):\n",
    "    y = get_num_group(x)\n",
    "    for i in range(1, len(y)):\n",
    "        return y[i]\n"
   ],
   "metadata": {
    "collapsed": false
   }
  },
  {
   "cell_type": "code",
   "execution_count": 197,
   "outputs": [],
   "source": [
    "df_data_scientist['Minimum_No_Employees_Clean'] = df_data_scientist['Size'].apply(get_min_num)\n"
   ],
   "metadata": {
    "collapsed": false
   }
  },
  {
   "cell_type": "code",
   "execution_count": 198,
   "outputs": [
    {
     "data": {
      "text/plain": "                          Size Minimum_No_Employees_Clean\nindex                                                    \n0        501 to 1000 employees                        501\n1       1001 to 5000 employees                       1001\n2            1 to 50 employees                          1\n3         201 to 500 employees                        201\n4          51 to 200 employees                         51\n...                        ...                        ...\n4375      201 to 500 employees                        201\n4376       51 to 200 employees                         51\n4377   5001 to 10000 employees                       5001\n4378         1 to 50 employees                          1\n4379   5001 to 10000 employees                       5001\n\n[3909 rows x 2 columns]",
      "text/html": "<div>\n<style scoped>\n    .dataframe tbody tr th:only-of-type {\n        vertical-align: middle;\n    }\n\n    .dataframe tbody tr th {\n        vertical-align: top;\n    }\n\n    .dataframe thead th {\n        text-align: right;\n    }\n</style>\n<table border=\"1\" class=\"dataframe\">\n  <thead>\n    <tr style=\"text-align: right;\">\n      <th></th>\n      <th>Size</th>\n      <th>Minimum_No_Employees_Clean</th>\n    </tr>\n    <tr>\n      <th>index</th>\n      <th></th>\n      <th></th>\n    </tr>\n  </thead>\n  <tbody>\n    <tr>\n      <th>0</th>\n      <td>501 to 1000 employees</td>\n      <td>501</td>\n    </tr>\n    <tr>\n      <th>1</th>\n      <td>1001 to 5000 employees</td>\n      <td>1001</td>\n    </tr>\n    <tr>\n      <th>2</th>\n      <td>1 to 50 employees</td>\n      <td>1</td>\n    </tr>\n    <tr>\n      <th>3</th>\n      <td>201 to 500 employees</td>\n      <td>201</td>\n    </tr>\n    <tr>\n      <th>4</th>\n      <td>51 to 200 employees</td>\n      <td>51</td>\n    </tr>\n    <tr>\n      <th>...</th>\n      <td>...</td>\n      <td>...</td>\n    </tr>\n    <tr>\n      <th>4375</th>\n      <td>201 to 500 employees</td>\n      <td>201</td>\n    </tr>\n    <tr>\n      <th>4376</th>\n      <td>51 to 200 employees</td>\n      <td>51</td>\n    </tr>\n    <tr>\n      <th>4377</th>\n      <td>5001 to 10000 employees</td>\n      <td>5001</td>\n    </tr>\n    <tr>\n      <th>4378</th>\n      <td>1 to 50 employees</td>\n      <td>1</td>\n    </tr>\n    <tr>\n      <th>4379</th>\n      <td>5001 to 10000 employees</td>\n      <td>5001</td>\n    </tr>\n  </tbody>\n</table>\n<p>3909 rows × 2 columns</p>\n</div>"
     },
     "execution_count": 198,
     "metadata": {},
     "output_type": "execute_result"
    }
   ],
   "source": [
    "df_data_scientist[['Size', 'Minimum_No_Employees_Clean']]\n"
   ],
   "metadata": {
    "collapsed": false
   }
  },
  {
   "cell_type": "code",
   "execution_count": 199,
   "outputs": [],
   "source": [
    "df_data_scientist['Maximum_No_Employees_Clean'] = df_data_scientist['Size'].apply(get_max_num)\n"
   ],
   "metadata": {
    "collapsed": false
   }
  },
  {
   "cell_type": "code",
   "execution_count": 200,
   "outputs": [
    {
     "data": {
      "text/plain": "                          Size Maximum_No_Employees_Clean\nindex                                                    \n0        501 to 1000 employees                      1000 \n1       1001 to 5000 employees                      5000 \n2            1 to 50 employees                        50 \n3         201 to 500 employees                       500 \n4          51 to 200 employees                       200 \n...                        ...                        ...\n4375      201 to 500 employees                       500 \n4376       51 to 200 employees                       200 \n4377   5001 to 10000 employees                     10000 \n4378         1 to 50 employees                        50 \n4379   5001 to 10000 employees                     10000 \n\n[3909 rows x 2 columns]",
      "text/html": "<div>\n<style scoped>\n    .dataframe tbody tr th:only-of-type {\n        vertical-align: middle;\n    }\n\n    .dataframe tbody tr th {\n        vertical-align: top;\n    }\n\n    .dataframe thead th {\n        text-align: right;\n    }\n</style>\n<table border=\"1\" class=\"dataframe\">\n  <thead>\n    <tr style=\"text-align: right;\">\n      <th></th>\n      <th>Size</th>\n      <th>Maximum_No_Employees_Clean</th>\n    </tr>\n    <tr>\n      <th>index</th>\n      <th></th>\n      <th></th>\n    </tr>\n  </thead>\n  <tbody>\n    <tr>\n      <th>0</th>\n      <td>501 to 1000 employees</td>\n      <td>1000</td>\n    </tr>\n    <tr>\n      <th>1</th>\n      <td>1001 to 5000 employees</td>\n      <td>5000</td>\n    </tr>\n    <tr>\n      <th>2</th>\n      <td>1 to 50 employees</td>\n      <td>50</td>\n    </tr>\n    <tr>\n      <th>3</th>\n      <td>201 to 500 employees</td>\n      <td>500</td>\n    </tr>\n    <tr>\n      <th>4</th>\n      <td>51 to 200 employees</td>\n      <td>200</td>\n    </tr>\n    <tr>\n      <th>...</th>\n      <td>...</td>\n      <td>...</td>\n    </tr>\n    <tr>\n      <th>4375</th>\n      <td>201 to 500 employees</td>\n      <td>500</td>\n    </tr>\n    <tr>\n      <th>4376</th>\n      <td>51 to 200 employees</td>\n      <td>200</td>\n    </tr>\n    <tr>\n      <th>4377</th>\n      <td>5001 to 10000 employees</td>\n      <td>10000</td>\n    </tr>\n    <tr>\n      <th>4378</th>\n      <td>1 to 50 employees</td>\n      <td>50</td>\n    </tr>\n    <tr>\n      <th>4379</th>\n      <td>5001 to 10000 employees</td>\n      <td>10000</td>\n    </tr>\n  </tbody>\n</table>\n<p>3909 rows × 2 columns</p>\n</div>"
     },
     "execution_count": 200,
     "metadata": {},
     "output_type": "execute_result"
    }
   ],
   "source": [
    "df_data_scientist[['Size', 'Maximum_No_Employees_Clean']]"
   ],
   "metadata": {
    "collapsed": false
   }
  },
  {
   "cell_type": "code",
   "execution_count": 201,
   "outputs": [],
   "source": [
    "# Clean Founded, Industry, Sector, Competitors by replacing -1 with 'Unknown'\n"
   ],
   "metadata": {
    "collapsed": false
   }
  },
  {
   "cell_type": "code",
   "execution_count": 202,
   "outputs": [
    {
     "data": {
      "text/plain": "index\n0       2007\n1       2008\n2         -1\n3       2019\n4       2007\n        ... \n4375    2011\n4376    2008\n4377    1977\n4378      -1\n4379      -1\nName: Founded, Length: 3909, dtype: object"
     },
     "execution_count": 202,
     "metadata": {},
     "output_type": "execute_result"
    }
   ],
   "source": [
    "df_data_scientist['Founded'].astype('str')\n",
    "\n"
   ],
   "metadata": {
    "collapsed": false
   }
  },
  {
   "cell_type": "code",
   "execution_count": 203,
   "outputs": [
    {
     "data": {
      "text/plain": "index\n0                 Travel Agencies\n1       Health, Beauty, & Fitness\n2                              -1\n3                        Internet\n4         Advertising & Marketing\n                  ...            \n4375                  IT Services\n4376                  IT Services\n4377       Staffing & Outsourcing\n4378                   Accounting\n4379    Biotech & Pharmaceuticals\nName: Industry, Length: 3909, dtype: object"
     },
     "execution_count": 203,
     "metadata": {},
     "output_type": "execute_result"
    }
   ],
   "source": [
    "df_data_scientist['Industry'].astype('str')\n"
   ],
   "metadata": {
    "collapsed": false
   }
  },
  {
   "cell_type": "code",
   "execution_count": 204,
   "outputs": [
    {
     "data": {
      "text/plain": "index\n0                Travel & Tourism\n1               Consumer Services\n2                              -1\n3          Information Technology\n4               Business Services\n                  ...            \n4375       Information Technology\n4376       Information Technology\n4377            Business Services\n4378           Accounting & Legal\n4379    Biotech & Pharmaceuticals\nName: Sector, Length: 3909, dtype: object"
     },
     "execution_count": 204,
     "metadata": {},
     "output_type": "execute_result"
    }
   ],
   "source": [
    "df_data_scientist['Sector'].astype('str')\n"
   ],
   "metadata": {
    "collapsed": false
   }
  },
  {
   "cell_type": "code",
   "execution_count": 205,
   "outputs": [
    {
     "data": {
      "text/plain": "index\n0                             -1\n1                             -1\n2                             -1\n3           Zocdoc, Healthgrades\n4       BBDO, Grey Group, Droga5\n                  ...           \n4375                          -1\n4376                          -1\n4377                          -1\n4378                          -1\n4379                      AbbVie\nName: Competitors, Length: 3909, dtype: object"
     },
     "execution_count": 205,
     "metadata": {},
     "output_type": "execute_result"
    }
   ],
   "source": [
    "df_data_scientist['Competitors'].astype('str')\n"
   ],
   "metadata": {
    "collapsed": false
   }
  },
  {
   "cell_type": "code",
   "execution_count": 292,
   "outputs": [],
   "source": [
    "def replace_neg_one(x):\n",
    "    if x != -1:\n",
    "        return x\n",
    "    else:\n",
    "        return 'Unknown'\n",
    "\n",
    "def replace_neg_one2(x):\n",
    "    if x != '-1':\n",
    "        return x\n",
    "    else:\n",
    "        return 'Unknown'\n"
   ],
   "metadata": {
    "collapsed": false
   }
  },
  {
   "cell_type": "code",
   "execution_count": 293,
   "outputs": [],
   "source": [
    "df_data_scientist['Founded_Clean'] = df_data_scientist['Founded'].apply(replace_neg_one)\n"
   ],
   "metadata": {
    "collapsed": false
   }
  },
  {
   "cell_type": "code",
   "execution_count": 294,
   "outputs": [
    {
     "data": {
      "text/plain": "       Founded Founded_Clean\nindex                       \n0         2007          2007\n1         2008          2008\n2           -1       Unknown\n3         2019          2019\n4         2007          2007\n...        ...           ...\n4375      2011          2011\n4376      2008          2008\n4377      1977          1977\n4378        -1       Unknown\n4379        -1       Unknown\n\n[3909 rows x 2 columns]",
      "text/html": "<div>\n<style scoped>\n    .dataframe tbody tr th:only-of-type {\n        vertical-align: middle;\n    }\n\n    .dataframe tbody tr th {\n        vertical-align: top;\n    }\n\n    .dataframe thead th {\n        text-align: right;\n    }\n</style>\n<table border=\"1\" class=\"dataframe\">\n  <thead>\n    <tr style=\"text-align: right;\">\n      <th></th>\n      <th>Founded</th>\n      <th>Founded_Clean</th>\n    </tr>\n    <tr>\n      <th>index</th>\n      <th></th>\n      <th></th>\n    </tr>\n  </thead>\n  <tbody>\n    <tr>\n      <th>0</th>\n      <td>2007</td>\n      <td>2007</td>\n    </tr>\n    <tr>\n      <th>1</th>\n      <td>2008</td>\n      <td>2008</td>\n    </tr>\n    <tr>\n      <th>2</th>\n      <td>-1</td>\n      <td>Unknown</td>\n    </tr>\n    <tr>\n      <th>3</th>\n      <td>2019</td>\n      <td>2019</td>\n    </tr>\n    <tr>\n      <th>4</th>\n      <td>2007</td>\n      <td>2007</td>\n    </tr>\n    <tr>\n      <th>...</th>\n      <td>...</td>\n      <td>...</td>\n    </tr>\n    <tr>\n      <th>4375</th>\n      <td>2011</td>\n      <td>2011</td>\n    </tr>\n    <tr>\n      <th>4376</th>\n      <td>2008</td>\n      <td>2008</td>\n    </tr>\n    <tr>\n      <th>4377</th>\n      <td>1977</td>\n      <td>1977</td>\n    </tr>\n    <tr>\n      <th>4378</th>\n      <td>-1</td>\n      <td>Unknown</td>\n    </tr>\n    <tr>\n      <th>4379</th>\n      <td>-1</td>\n      <td>Unknown</td>\n    </tr>\n  </tbody>\n</table>\n<p>3909 rows × 2 columns</p>\n</div>"
     },
     "execution_count": 294,
     "metadata": {},
     "output_type": "execute_result"
    }
   ],
   "source": [
    "df_data_scientist[['Founded', 'Founded_Clean']]\n"
   ],
   "metadata": {
    "collapsed": false
   }
  },
  {
   "cell_type": "code",
   "execution_count": 295,
   "outputs": [],
   "source": [
    "df_data_scientist['Industry_Clean'] = df_data_scientist['Industry'].apply(replace_neg_one2)\n"
   ],
   "metadata": {
    "collapsed": false
   }
  },
  {
   "cell_type": "code",
   "execution_count": 296,
   "outputs": [
    {
     "data": {
      "text/plain": "                        Industry             Industry_Clean\nindex                                                      \n0                Travel Agencies            Travel Agencies\n1      Health, Beauty, & Fitness  Health, Beauty, & Fitness\n2                             -1                    Unknown\n3                       Internet                   Internet\n4        Advertising & Marketing    Advertising & Marketing\n...                          ...                        ...\n4375                 IT Services                IT Services\n4376                 IT Services                IT Services\n4377      Staffing & Outsourcing     Staffing & Outsourcing\n4378                  Accounting                 Accounting\n4379   Biotech & Pharmaceuticals  Biotech & Pharmaceuticals\n\n[3909 rows x 2 columns]",
      "text/html": "<div>\n<style scoped>\n    .dataframe tbody tr th:only-of-type {\n        vertical-align: middle;\n    }\n\n    .dataframe tbody tr th {\n        vertical-align: top;\n    }\n\n    .dataframe thead th {\n        text-align: right;\n    }\n</style>\n<table border=\"1\" class=\"dataframe\">\n  <thead>\n    <tr style=\"text-align: right;\">\n      <th></th>\n      <th>Industry</th>\n      <th>Industry_Clean</th>\n    </tr>\n    <tr>\n      <th>index</th>\n      <th></th>\n      <th></th>\n    </tr>\n  </thead>\n  <tbody>\n    <tr>\n      <th>0</th>\n      <td>Travel Agencies</td>\n      <td>Travel Agencies</td>\n    </tr>\n    <tr>\n      <th>1</th>\n      <td>Health, Beauty, &amp; Fitness</td>\n      <td>Health, Beauty, &amp; Fitness</td>\n    </tr>\n    <tr>\n      <th>2</th>\n      <td>-1</td>\n      <td>Unknown</td>\n    </tr>\n    <tr>\n      <th>3</th>\n      <td>Internet</td>\n      <td>Internet</td>\n    </tr>\n    <tr>\n      <th>4</th>\n      <td>Advertising &amp; Marketing</td>\n      <td>Advertising &amp; Marketing</td>\n    </tr>\n    <tr>\n      <th>...</th>\n      <td>...</td>\n      <td>...</td>\n    </tr>\n    <tr>\n      <th>4375</th>\n      <td>IT Services</td>\n      <td>IT Services</td>\n    </tr>\n    <tr>\n      <th>4376</th>\n      <td>IT Services</td>\n      <td>IT Services</td>\n    </tr>\n    <tr>\n      <th>4377</th>\n      <td>Staffing &amp; Outsourcing</td>\n      <td>Staffing &amp; Outsourcing</td>\n    </tr>\n    <tr>\n      <th>4378</th>\n      <td>Accounting</td>\n      <td>Accounting</td>\n    </tr>\n    <tr>\n      <th>4379</th>\n      <td>Biotech &amp; Pharmaceuticals</td>\n      <td>Biotech &amp; Pharmaceuticals</td>\n    </tr>\n  </tbody>\n</table>\n<p>3909 rows × 2 columns</p>\n</div>"
     },
     "execution_count": 296,
     "metadata": {},
     "output_type": "execute_result"
    }
   ],
   "source": [
    "df_data_scientist[['Industry', 'Industry_Clean']]\n"
   ],
   "metadata": {
    "collapsed": false
   }
  },
  {
   "cell_type": "code",
   "execution_count": 297,
   "outputs": [],
   "source": [
    "df_data_scientist['Sector_Clean'] = df_data_scientist['Sector'].apply(replace_neg_one2)\n"
   ],
   "metadata": {
    "collapsed": false
   }
  },
  {
   "cell_type": "code",
   "execution_count": 298,
   "outputs": [
    {
     "data": {
      "text/plain": "                          Sector               Sector_Clean\nindex                                                      \n0               Travel & Tourism           Travel & Tourism\n1              Consumer Services          Consumer Services\n2                             -1                    Unknown\n3         Information Technology     Information Technology\n4              Business Services          Business Services\n...                          ...                        ...\n4375      Information Technology     Information Technology\n4376      Information Technology     Information Technology\n4377           Business Services          Business Services\n4378          Accounting & Legal         Accounting & Legal\n4379   Biotech & Pharmaceuticals  Biotech & Pharmaceuticals\n\n[3909 rows x 2 columns]",
      "text/html": "<div>\n<style scoped>\n    .dataframe tbody tr th:only-of-type {\n        vertical-align: middle;\n    }\n\n    .dataframe tbody tr th {\n        vertical-align: top;\n    }\n\n    .dataframe thead th {\n        text-align: right;\n    }\n</style>\n<table border=\"1\" class=\"dataframe\">\n  <thead>\n    <tr style=\"text-align: right;\">\n      <th></th>\n      <th>Sector</th>\n      <th>Sector_Clean</th>\n    </tr>\n    <tr>\n      <th>index</th>\n      <th></th>\n      <th></th>\n    </tr>\n  </thead>\n  <tbody>\n    <tr>\n      <th>0</th>\n      <td>Travel &amp; Tourism</td>\n      <td>Travel &amp; Tourism</td>\n    </tr>\n    <tr>\n      <th>1</th>\n      <td>Consumer Services</td>\n      <td>Consumer Services</td>\n    </tr>\n    <tr>\n      <th>2</th>\n      <td>-1</td>\n      <td>Unknown</td>\n    </tr>\n    <tr>\n      <th>3</th>\n      <td>Information Technology</td>\n      <td>Information Technology</td>\n    </tr>\n    <tr>\n      <th>4</th>\n      <td>Business Services</td>\n      <td>Business Services</td>\n    </tr>\n    <tr>\n      <th>...</th>\n      <td>...</td>\n      <td>...</td>\n    </tr>\n    <tr>\n      <th>4375</th>\n      <td>Information Technology</td>\n      <td>Information Technology</td>\n    </tr>\n    <tr>\n      <th>4376</th>\n      <td>Information Technology</td>\n      <td>Information Technology</td>\n    </tr>\n    <tr>\n      <th>4377</th>\n      <td>Business Services</td>\n      <td>Business Services</td>\n    </tr>\n    <tr>\n      <th>4378</th>\n      <td>Accounting &amp; Legal</td>\n      <td>Accounting &amp; Legal</td>\n    </tr>\n    <tr>\n      <th>4379</th>\n      <td>Biotech &amp; Pharmaceuticals</td>\n      <td>Biotech &amp; Pharmaceuticals</td>\n    </tr>\n  </tbody>\n</table>\n<p>3909 rows × 2 columns</p>\n</div>"
     },
     "execution_count": 298,
     "metadata": {},
     "output_type": "execute_result"
    }
   ],
   "source": [
    "df_data_scientist[['Sector', 'Sector_Clean']]\n"
   ],
   "metadata": {
    "collapsed": false
   }
  },
  {
   "cell_type": "code",
   "execution_count": 299,
   "outputs": [],
   "source": [
    "df_data_scientist['Competitors_Clean'] = df_data_scientist['Competitors'].apply(replace_neg_one2)\n"
   ],
   "metadata": {
    "collapsed": false
   }
  },
  {
   "cell_type": "code",
   "execution_count": 300,
   "outputs": [
    {
     "data": {
      "text/plain": "                    Competitors         Competitors_Clean\nindex                                                    \n0                            -1                   Unknown\n1                            -1                   Unknown\n2                            -1                   Unknown\n3          Zocdoc, Healthgrades      Zocdoc, Healthgrades\n4      BBDO, Grey Group, Droga5  BBDO, Grey Group, Droga5\n...                         ...                       ...\n4375                         -1                   Unknown\n4376                         -1                   Unknown\n4377                         -1                   Unknown\n4378                         -1                   Unknown\n4379                     AbbVie                    AbbVie\n\n[3909 rows x 2 columns]",
      "text/html": "<div>\n<style scoped>\n    .dataframe tbody tr th:only-of-type {\n        vertical-align: middle;\n    }\n\n    .dataframe tbody tr th {\n        vertical-align: top;\n    }\n\n    .dataframe thead th {\n        text-align: right;\n    }\n</style>\n<table border=\"1\" class=\"dataframe\">\n  <thead>\n    <tr style=\"text-align: right;\">\n      <th></th>\n      <th>Competitors</th>\n      <th>Competitors_Clean</th>\n    </tr>\n    <tr>\n      <th>index</th>\n      <th></th>\n      <th></th>\n    </tr>\n  </thead>\n  <tbody>\n    <tr>\n      <th>0</th>\n      <td>-1</td>\n      <td>Unknown</td>\n    </tr>\n    <tr>\n      <th>1</th>\n      <td>-1</td>\n      <td>Unknown</td>\n    </tr>\n    <tr>\n      <th>2</th>\n      <td>-1</td>\n      <td>Unknown</td>\n    </tr>\n    <tr>\n      <th>3</th>\n      <td>Zocdoc, Healthgrades</td>\n      <td>Zocdoc, Healthgrades</td>\n    </tr>\n    <tr>\n      <th>4</th>\n      <td>BBDO, Grey Group, Droga5</td>\n      <td>BBDO, Grey Group, Droga5</td>\n    </tr>\n    <tr>\n      <th>...</th>\n      <td>...</td>\n      <td>...</td>\n    </tr>\n    <tr>\n      <th>4375</th>\n      <td>-1</td>\n      <td>Unknown</td>\n    </tr>\n    <tr>\n      <th>4376</th>\n      <td>-1</td>\n      <td>Unknown</td>\n    </tr>\n    <tr>\n      <th>4377</th>\n      <td>-1</td>\n      <td>Unknown</td>\n    </tr>\n    <tr>\n      <th>4378</th>\n      <td>-1</td>\n      <td>Unknown</td>\n    </tr>\n    <tr>\n      <th>4379</th>\n      <td>AbbVie</td>\n      <td>AbbVie</td>\n    </tr>\n  </tbody>\n</table>\n<p>3909 rows × 2 columns</p>\n</div>"
     },
     "execution_count": 300,
     "metadata": {},
     "output_type": "execute_result"
    }
   ],
   "source": [
    "df_data_scientist[['Competitors', 'Competitors_Clean']]\n"
   ],
   "metadata": {
    "collapsed": false
   }
  },
  {
   "cell_type": "code",
   "execution_count": 301,
   "outputs": [],
   "source": [
    "# Clean Easy Apply. Replace -1 with False\n"
   ],
   "metadata": {
    "collapsed": false
   }
  },
  {
   "cell_type": "code",
   "execution_count": 307,
   "outputs": [],
   "source": [
    "df_data_scientist['Easy_Apply_Clean'] = df_data_scientist['Easy Apply'].apply(lambda x: x if x != '-1' else 'FALSE')\n"
   ],
   "metadata": {
    "collapsed": false
   }
  },
  {
   "cell_type": "code",
   "execution_count": 308,
   "outputs": [
    {
     "data": {
      "text/plain": "      Easy Apply Easy_Apply_Clean\nindex                            \n0             -1            FALSE\n1             -1            FALSE\n2           TRUE             TRUE\n3             -1            FALSE\n4             -1            FALSE\n...          ...              ...\n4375          -1            FALSE\n4376          -1            FALSE\n4377          -1            FALSE\n4378          -1            FALSE\n4379          -1            FALSE\n\n[3909 rows x 2 columns]",
      "text/html": "<div>\n<style scoped>\n    .dataframe tbody tr th:only-of-type {\n        vertical-align: middle;\n    }\n\n    .dataframe tbody tr th {\n        vertical-align: top;\n    }\n\n    .dataframe thead th {\n        text-align: right;\n    }\n</style>\n<table border=\"1\" class=\"dataframe\">\n  <thead>\n    <tr style=\"text-align: right;\">\n      <th></th>\n      <th>Easy Apply</th>\n      <th>Easy_Apply_Clean</th>\n    </tr>\n    <tr>\n      <th>index</th>\n      <th></th>\n      <th></th>\n    </tr>\n  </thead>\n  <tbody>\n    <tr>\n      <th>0</th>\n      <td>-1</td>\n      <td>FALSE</td>\n    </tr>\n    <tr>\n      <th>1</th>\n      <td>-1</td>\n      <td>FALSE</td>\n    </tr>\n    <tr>\n      <th>2</th>\n      <td>TRUE</td>\n      <td>TRUE</td>\n    </tr>\n    <tr>\n      <th>3</th>\n      <td>-1</td>\n      <td>FALSE</td>\n    </tr>\n    <tr>\n      <th>4</th>\n      <td>-1</td>\n      <td>FALSE</td>\n    </tr>\n    <tr>\n      <th>...</th>\n      <td>...</td>\n      <td>...</td>\n    </tr>\n    <tr>\n      <th>4375</th>\n      <td>-1</td>\n      <td>FALSE</td>\n    </tr>\n    <tr>\n      <th>4376</th>\n      <td>-1</td>\n      <td>FALSE</td>\n    </tr>\n    <tr>\n      <th>4377</th>\n      <td>-1</td>\n      <td>FALSE</td>\n    </tr>\n    <tr>\n      <th>4378</th>\n      <td>-1</td>\n      <td>FALSE</td>\n    </tr>\n    <tr>\n      <th>4379</th>\n      <td>-1</td>\n      <td>FALSE</td>\n    </tr>\n  </tbody>\n</table>\n<p>3909 rows × 2 columns</p>\n</div>"
     },
     "execution_count": 308,
     "metadata": {},
     "output_type": "execute_result"
    }
   ],
   "source": [
    "df_data_scientist[['Easy Apply', 'Easy_Apply_Clean']]\n"
   ],
   "metadata": {
    "collapsed": false
   }
  },
  {
   "cell_type": "code",
   "execution_count": null,
   "outputs": [],
   "source": [],
   "metadata": {
    "collapsed": false
   }
  }
 ],
 "metadata": {
  "kernelspec": {
   "display_name": "Python 3 (ipykernel)",
   "language": "python",
   "name": "python3"
  },
  "language_info": {
   "codemirror_mode": {
    "name": "ipython",
    "version": 3
   },
   "file_extension": ".py",
   "mimetype": "text/x-python",
   "name": "python",
   "nbconvert_exporter": "python",
   "pygments_lexer": "ipython3",
   "version": "3.11.2"
  }
 },
 "nbformat": 4,
 "nbformat_minor": 1
}
